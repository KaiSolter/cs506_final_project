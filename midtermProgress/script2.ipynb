{
 "cells": [
  {
   "cell_type": "code",
   "execution_count": 1,
   "metadata": {},
   "outputs": [],
   "source": [
    "import pandas as pd\n",
    "import pandas as pd\n",
    "import numpy\n",
    "from sklearn.neighbors import KNeighborsClassifier\n",
    "from sklearn.model_selection import train_test_split, GridSearchCV\n",
    "from sklearn.metrics import accuracy_score\n",
    "from sklearn.ensemble import RandomForestClassifier\n"
   ]
  },
  {
   "cell_type": "code",
   "execution_count": 2,
   "metadata": {},
   "outputs": [],
   "source": [
    "df=pd.read_csv('data.csv')\n",
    "df2 = pd.read_csv('cleaned.csv')"
   ]
  },
  {
   "cell_type": "code",
   "execution_count": null,
   "metadata": {},
   "outputs": [],
   "source": [
    "df.columns"
   ]
  },
  {
   "cell_type": "code",
   "execution_count": null,
   "metadata": {},
   "outputs": [],
   "source": [
    "df2.columns"
   ]
  },
  {
   "cell_type": "code",
   "execution_count": null,
   "metadata": {},
   "outputs": [],
   "source": [
    "columns_not_in_df2 = [col for col in df.columns if col not in df2.columns]\n",
    "\n",
    "columns_not_in_df2"
   ]
  },
  {
   "cell_type": "code",
   "execution_count": null,
   "metadata": {},
   "outputs": [],
   "source": [
    "to_remove = ['user_loss_streak_current', 'user_loss_streak_max', 'user_second_highest_blitz_opponent_rating', 'user_third_highest_blitz_opponent_rating', 'user_win_streak_current',\n",
    " 'user_win_streak_max', 'op_loss_streak_current',\n",
    " 'op_loss_streak_max',\n",
    " 'op_second_highest_blitz_opponent_rating',\n",
    " 'op_third_highest_blitz_opponent_rating', 'op_win_streak_current',\n",
    " 'op_win_streak_max']"
   ]
  },
  {
   "cell_type": "code",
   "execution_count": 4,
   "metadata": {},
   "outputs": [],
   "source": [
    "to_remove2 = ['user_loss_streak_current', 'user_loss_streak_max', 'user_second_highest_blitz_opponent_rating', 'user_third_highest_blitz_opponent_rating', 'user_highest_blitz_opponent_rating', 'user_win_streak_current',\n",
    " 'user_win_streak_max', 'op_loss_streak_current',\n",
    " 'op_loss_streak_max',\n",
    " 'op_second_highest_blitz_opponent_rating',\n",
    " 'op_third_highest_blitz_opponent_rating', 'op_highest_blitz_opponent_rating',  'op_win_streak_current',\n",
    " 'op_win_streak_max']"
   ]
  },
  {
   "cell_type": "code",
   "execution_count": 3,
   "metadata": {},
   "outputs": [],
   "source": [
    "df['op_average_best_win'] = df[['op_second_highest_blitz_opponent_rating',\n",
    " 'op_third_highest_blitz_opponent_rating', 'op_highest_blitz_opponent_rating']].mean(axis=1)\n",
    "df['user_average_best_win'] = df[['user_second_highest_blitz_opponent_rating', 'user_third_highest_blitz_opponent_rating', 'user_highest_blitz_opponent_rating']].mean(axis=1)\n"
   ]
  },
  {
   "cell_type": "code",
   "execution_count": null,
   "metadata": {},
   "outputs": [],
   "source": [
    "to_remove3 = ['op_second_highest_blitz_opponent_rating',\n",
    " 'op_third_highest_blitz_opponent_rating', 'op_highest_blitz_opponent_rating', \n",
    " 'user_second_highest_blitz_opponent_rating', 'user_third_highest_blitz_opponent_rating', 'user_highest_blitz_opponent_rating']"
   ]
  },
  {
   "cell_type": "code",
   "execution_count": 5,
   "metadata": {},
   "outputs": [],
   "source": [
    "df = df.drop(columns=to_remove2)"
   ]
  },
  {
   "cell_type": "code",
   "execution_count": 6,
   "metadata": {},
   "outputs": [
    {
     "name": "stdout",
     "output_type": "stream",
     "text": [
      "Best Parameters: {'n_neighbors': 50, 'weights': 'distance'}\n",
      "Accuracy with Best Parameters: 0.5245641838351822\n"
     ]
    }
   ],
   "source": [
    "\n",
    "\n",
    "data = df\n",
    "\n",
    "# our features\n",
    "X = data.drop(columns=['game_result', 'user_id', 'user_op'])\n",
    "\n",
    "#our label\n",
    "y = data['game_result']   # the last column\n",
    "\n",
    "# Split data into training and testing sets\n",
    "X_train, X_test, y_train, y_test = train_test_split(X, y, test_size=0.25, random_state=42)\n",
    "\n",
    "# Initialize the KNN model\n",
    "knn = KNeighborsClassifier()\n",
    "\n",
    "# Set up hyperparameter grid for tuning\n",
    "param_grid = {\n",
    "    'n_neighbors': [10, 50],          # Two choices for number of neighbors\n",
    "    'weights': ['uniform', 'distance']  # Two choices for weighting\n",
    "}\n",
    "\n",
    "\n",
    "# Perform grid search with cross-validation\n",
    "grid_search = GridSearchCV(knn, param_grid, cv=5, scoring='accuracy')\n",
    "grid_search.fit(X_train, y_train)\n",
    "\n",
    "# Get the best model\n",
    "best_knn = grid_search.best_estimator_\n",
    "\n",
    "# Make predictions with the best model\n",
    "y_pred = best_knn.predict(X_test)\n",
    "\n",
    "# Evaluate accuracy\n",
    "accuracy = accuracy_score(y_test, y_pred)\n",
    "print(\"Best Parameters:\", grid_search.best_params_)\n",
    "print(\"Accuracy with Best Parameters:\", accuracy)"
   ]
  },
  {
   "cell_type": "code",
   "execution_count": 7,
   "metadata": {},
   "outputs": [
    {
     "name": "stdout",
     "output_type": "stream",
     "text": [
      "Best Parameters: {'max_depth': 10, 'n_estimators': 100}\n",
      "Accuracy with Best Parameters: 0.5578446909667195\n"
     ]
    }
   ],
   "source": [
    "\n",
    "data = df\n",
    "\n",
    "# our features\n",
    "X = data.drop(columns=['game_result', 'user_id', 'user_op'])\n",
    "\n",
    "#our label\n",
    "y = data['game_result']   # the last column\n",
    "\n",
    "# Split data into training and testing sets\n",
    "X_train, X_test, y_train, y_test = train_test_split(X, y, test_size=0.25, random_state=42)\n",
    "\n",
    "# Initialize the KNN model\n",
    "rf = RandomForestClassifier(random_state=42)\n",
    "\n",
    "# Set up hyperparameter grid for tuning\n",
    "param_grid = {\n",
    "    'n_estimators': [50, 100],  # Number of trees in the forest\n",
    "    'max_depth': [10, 20]       # Maximum depth of the trees\n",
    "}\n",
    "\n",
    "# Perform grid search with cross-validation\n",
    "grid_search = GridSearchCV(rf, param_grid, cv=5, scoring='accuracy')\n",
    "grid_search.fit(X_train, y_train)\n",
    "\n",
    "# Get the best model\n",
    "best_knn = grid_search.best_estimator_\n",
    "\n",
    "# Make predictions with the best model\n",
    "y_pred = best_knn.predict(X_test)\n",
    "\n",
    "# Evaluate accuracy\n",
    "accuracy = accuracy_score(y_test, y_pred)\n",
    "print(\"Best Parameters:\", grid_search.best_params_)\n",
    "print(\"Accuracy with Best Parameters:\", accuracy)"
   ]
  }
 ],
 "metadata": {
  "kernelspec": {
   "display_name": ".venv",
   "language": "python",
   "name": "python3"
  },
  "language_info": {
   "codemirror_mode": {
    "name": "ipython",
    "version": 3
   },
   "file_extension": ".py",
   "mimetype": "text/x-python",
   "name": "python",
   "nbconvert_exporter": "python",
   "pygments_lexer": "ipython3",
   "version": "3.11.5"
  }
 },
 "nbformat": 4,
 "nbformat_minor": 2
}
