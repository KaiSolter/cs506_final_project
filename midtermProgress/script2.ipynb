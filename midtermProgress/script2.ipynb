{
 "cells": [
  {
   "cell_type": "code",
   "execution_count": 1,
   "metadata": {},
   "outputs": [],
   "source": [
    "import pandas as pd\n",
    "import pandas as pd\n",
    "import numpy\n",
    "from sklearn.neighbors import KNeighborsClassifier\n",
    "from sklearn.model_selection import train_test_split, GridSearchCV\n",
    "from sklearn.metrics import accuracy_score\n",
    "from sklearn.ensemble import RandomForestClassifier\n"
   ]
  },
  {
   "cell_type": "code",
   "execution_count": 2,
   "metadata": {},
   "outputs": [],
   "source": [
    "df=pd.read_csv('data.csv')\n",
    "df2 = pd.read_csv('cleaned.csv')"
   ]
  },
  {
   "cell_type": "code",
   "execution_count": 3,
   "metadata": {},
   "outputs": [
    {
     "data": {
      "text/plain": [
       "Index(['user_id', 'user_black_draw_rate', 'user_black_game_count',\n",
       "       'user_black_lose_rate', 'user_black_win_rate', 'user_blitz_rating',\n",
       "       'user_draw_rate', 'user_game_count',\n",
       "       'user_highest_blitz_opponent_rating', 'user_lose_rate',\n",
       "       'user_loss_streak_current', 'user_loss_streak_max',\n",
       "       'user_rating_deviation', 'user_second_highest_blitz_opponent_rating',\n",
       "       'user_third_highest_blitz_opponent_rating', 'user_total_games_played',\n",
       "       'user_white_draw_rate', 'user_white_game_count', 'user_white_lose_rate',\n",
       "       'user_white_win_rate', 'user_win_rate', 'user_win_streak_current',\n",
       "       'user_win_streak_max', 'user_op', 'op_black_draw_rate',\n",
       "       'op_black_game_count', 'op_black_lose_rate', 'op_black_win_rate',\n",
       "       'op_blitz_rating', 'op_draw_rate', 'op_game_count',\n",
       "       'op_highest_blitz_opponent_rating', 'op_lose_rate',\n",
       "       'op_loss_streak_current', 'op_loss_streak_max', 'op_rating_deviation',\n",
       "       'op_second_highest_blitz_opponent_rating',\n",
       "       'op_third_highest_blitz_opponent_rating', 'op_total_games_played',\n",
       "       'op_white_draw_rate', 'op_white_game_count', 'op_white_lose_rate',\n",
       "       'op_white_win_rate', 'op_win_rate', 'op_win_streak_current',\n",
       "       'op_win_streak_max', 'game_result'],\n",
       "      dtype='object')"
      ]
     },
     "execution_count": 3,
     "metadata": {},
     "output_type": "execute_result"
    }
   ],
   "source": [
    "df.columns"
   ]
  },
  {
   "cell_type": "code",
   "execution_count": 4,
   "metadata": {},
   "outputs": [
    {
     "data": {
      "text/plain": [
       "Index(['user_black_game_count', 'user_black_draw_rate', 'user_black_win_rate',\n",
       "       'user_blitz_rating', 'user_draw_rate', 'user_game_count',\n",
       "       'user_highest_blitz_opponent_rating', 'user_win_rate',\n",
       "       'user_rating_deviation', 'user_total_games_played',\n",
       "       'user_white_draw_rate', 'user_white_game_count', 'user_white_win_rate',\n",
       "       'op_black_game_count', 'op_black_draw_rate', 'op_black_win_rate',\n",
       "       'op_blitz_rating', 'op_draw_rate', 'op_game_count',\n",
       "       'op_highest_blitz_opponent_rating', 'op_win_rate',\n",
       "       'op_rating_deviation', 'op_total_games_played', 'op_white_draw_rate',\n",
       "       'op_white_game_count', 'op_white_win_rate', 'game_result', 'user_id',\n",
       "       'user_op'],\n",
       "      dtype='object')"
      ]
     },
     "execution_count": 4,
     "metadata": {},
     "output_type": "execute_result"
    }
   ],
   "source": [
    "df2.columns"
   ]
  },
  {
   "cell_type": "code",
   "execution_count": 5,
   "metadata": {},
   "outputs": [
    {
     "data": {
      "text/plain": [
       "['user_black_lose_rate',\n",
       " 'user_lose_rate',\n",
       " 'user_loss_streak_current',\n",
       " 'user_loss_streak_max',\n",
       " 'user_second_highest_blitz_opponent_rating',\n",
       " 'user_third_highest_blitz_opponent_rating',\n",
       " 'user_white_lose_rate',\n",
       " 'user_win_streak_current',\n",
       " 'user_win_streak_max',\n",
       " 'op_black_lose_rate',\n",
       " 'op_lose_rate',\n",
       " 'op_loss_streak_current',\n",
       " 'op_loss_streak_max',\n",
       " 'op_second_highest_blitz_opponent_rating',\n",
       " 'op_third_highest_blitz_opponent_rating',\n",
       " 'op_white_lose_rate',\n",
       " 'op_win_streak_current',\n",
       " 'op_win_streak_max']"
      ]
     },
     "execution_count": 5,
     "metadata": {},
     "output_type": "execute_result"
    }
   ],
   "source": [
    "columns_not_in_df2 = [col for col in df.columns if col not in df2.columns]\n",
    "\n",
    "columns_not_in_df2"
   ]
  },
  {
   "cell_type": "code",
   "execution_count": 6,
   "metadata": {},
   "outputs": [],
   "source": [
    "# #lose and win rate cross data for each player\n",
    "# df['user_performace'] = df['user_win_rate'] * (df['op_lose_rate'])\n",
    "# df['op_performance'] = df['op_win_rate'] * (df['user_lose_rate'])"
   ]
  },
  {
   "cell_type": "code",
   "execution_count": 7,
   "metadata": {},
   "outputs": [],
   "source": [
    "#average highest beaten for each player\n",
    "df['op_average_best_win'] = df[['op_second_highest_blitz_opponent_rating',\n",
    " 'op_third_highest_blitz_opponent_rating', 'op_highest_blitz_opponent_rating']].mean(axis=1)\n",
    "df['user_average_best_win'] = df[['user_second_highest_blitz_opponent_rating', 'user_third_highest_blitz_opponent_rating', 'user_highest_blitz_opponent_rating']].mean(axis=1)\n"
   ]
  },
  {
   "cell_type": "code",
   "execution_count": 8,
   "metadata": {},
   "outputs": [],
   "source": [
    "#highest opponent beaten difference between two players\n",
    "df['best_diff'] = df['op_highest_blitz_opponent_rating'] - df['user_highest_blitz_opponent_rating']"
   ]
  },
  {
   "cell_type": "code",
   "execution_count": 9,
   "metadata": {},
   "outputs": [],
   "source": [
    "#rating difference between two players\n",
    "df['rating_diff'] = df['user_blitz_rating'] - df['op_blitz_rating']"
   ]
  },
  {
   "cell_type": "code",
   "execution_count": 10,
   "metadata": {},
   "outputs": [],
   "source": [
    "#draw related feature\n",
    "# df['draw_rate'] = df['user_draw_rate'] +df['op_draw_rate']\n",
    "df['combined_draw4'] = (df['user_white_draw_rate'] + df['op_black_draw_rate'] + df['user_black_draw_rate'] + df['op_white_draw_rate'])/4"
   ]
  },
  {
   "cell_type": "code",
   "execution_count": 11,
   "metadata": {},
   "outputs": [],
   "source": [
    "# #compare the number of recent games between two users\n",
    "df['game_count_ratio'] = df['user_game_count'] / df['op_game_count']"
   ]
  },
  {
   "cell_type": "code",
   "execution_count": 12,
   "metadata": {},
   "outputs": [],
   "source": [
    "#color specific performances\n",
    "df['user_white_performance'] = df['user_white_win_rate'] * (df['op_black_lose_rate'])\n",
    "df['user_black_performance'] = df['user_black_win_rate'] * (df['op_white_lose_rate'])\n",
    "df['op_white_performance'] = df['op_white_win_rate'] * (df['user_black_lose_rate'])\n",
    "df['op_black_performance'] = df['op_black_win_rate'] * (df['user_white_lose_rate'])"
   ]
  },
  {
   "cell_type": "code",
   "execution_count": 13,
   "metadata": {},
   "outputs": [],
   "source": [
    "to_remove2 = ['user_loss_streak_current', 'user_loss_streak_max', 'user_second_highest_blitz_opponent_rating', 'user_third_highest_blitz_opponent_rating', 'user_highest_blitz_opponent_rating', 'user_win_streak_current',\n",
    " 'user_win_streak_max', 'op_loss_streak_current',\n",
    " 'op_loss_streak_max',\n",
    " 'op_second_highest_blitz_opponent_rating',\n",
    " 'op_third_highest_blitz_opponent_rating', 'op_highest_blitz_opponent_rating',  'op_win_streak_current',\n",
    " 'op_win_streak_max']"
   ]
  },
  {
   "cell_type": "code",
   "execution_count": 14,
   "metadata": {},
   "outputs": [],
   "source": [
    "df = df.drop(columns=to_remove2)"
   ]
  },
  {
   "cell_type": "code",
   "execution_count": 15,
   "metadata": {},
   "outputs": [
    {
     "name": "stdout",
     "output_type": "stream",
     "text": [
      "Best Parameters: {'n_neighbors': 100, 'weights': 'uniform'}\n",
      "Accuracy with Best Parameters: 0.5324881141045958\n"
     ]
    }
   ],
   "source": [
    "\n",
    "\n",
    "data = df\n",
    "\n",
    "# our features\n",
    "X = data.drop(columns=['game_result', 'user_id', 'user_op'])\n",
    "\n",
    "#our label\n",
    "y = data['game_result']   # the last column\n",
    "\n",
    "# Split data into training and testing sets\n",
    "X_train, X_test, y_train, y_test = train_test_split(X, y, test_size=0.25, random_state=42)\n",
    "\n",
    "# Initialize the KNN model\n",
    "knn = KNeighborsClassifier()\n",
    "\n",
    "# Set up hyperparameter grid for tuning\n",
    "param_grid = {\n",
    "    'n_neighbors': [10, 50, 100],          # Two choices for number of neighbors\n",
    "    'weights': ['uniform', 'distance']  # Two choices for weighting\n",
    "}\n",
    "\n",
    "\n",
    "# Perform grid search with cross-validation\n",
    "grid_search = GridSearchCV(knn, param_grid, cv=5, scoring='accuracy')\n",
    "grid_search.fit(X_train, y_train)\n",
    "\n",
    "# Get the best model\n",
    "best_knn = grid_search.best_estimator_\n",
    "\n",
    "# Make predictions with the best model\n",
    "y_pred = best_knn.predict(X_test)\n",
    "\n",
    "# Evaluate accuracy\n",
    "accuracy = accuracy_score(y_test, y_pred)\n",
    "print(\"Best Parameters:\", grid_search.best_params_)\n",
    "print(\"Accuracy with Best Parameters:\", accuracy)"
   ]
  },
  {
   "cell_type": "code",
   "execution_count": 16,
   "metadata": {},
   "outputs": [
    {
     "name": "stdout",
     "output_type": "stream",
     "text": [
      "Best Parameters: {'max_depth': 5, 'n_estimators': 50}\n",
      "Accuracy with Best Parameters: 0.5578446909667195\n"
     ]
    },
    {
     "name": "stderr",
     "output_type": "stream",
     "text": [
      "c:\\Users\\tiazh\\OneDrive\\CS\\CS506\\cs506_final_project\\.venv\\Lib\\site-packages\\numpy\\ma\\core.py:2846: RuntimeWarning: invalid value encountered in cast\n",
      "  _data = np.array(data, dtype=dtype, copy=copy,\n"
     ]
    }
   ],
   "source": [
    "\n",
    "data = df\n",
    "\n",
    "# our features\n",
    "X = data.drop(columns=['game_result', 'user_id', 'user_op'])\n",
    "\n",
    "#our label\n",
    "y = data['game_result']   # the last column\n",
    "\n",
    "# Split data into training and testing sets\n",
    "X_train, X_test, y_train, y_test = train_test_split(X, y, test_size=0.25, random_state=42)\n",
    "\n",
    "# Initialize the KNN model\n",
    "rf = RandomForestClassifier(random_state=42)\n",
    "\n",
    "# Set up hyperparameter grid for tuning\n",
    "param_grid = {\n",
    "    'n_estimators': [50, 100, 200],  # Number of trees in the forest\n",
    "    'max_depth': [5, 10, 20]       # Maximum depth of the trees\n",
    "}\n",
    "\n",
    "# Perform grid search with cross-validation\n",
    "grid_search = GridSearchCV(rf, param_grid, cv=5, scoring='accuracy')\n",
    "grid_search.fit(X_train, y_train)\n",
    "\n",
    "# Get the best model\n",
    "best_knn = grid_search.best_estimator_\n",
    "\n",
    "# Make predictions with the best model\n",
    "y_pred = best_knn.predict(X_test)\n",
    "\n",
    "# Evaluate accuracy\n",
    "accuracy = accuracy_score(y_test, y_pred)\n",
    "print(\"Best Parameters:\", grid_search.best_params_)\n",
    "print(\"Accuracy with Best Parameters:\", accuracy)"
   ]
  },
  {
   "cell_type": "code",
   "execution_count": 17,
   "metadata": {},
   "outputs": [
    {
     "name": "stdout",
     "output_type": "stream",
     "text": [
      "Fitting 3 folds for each of 48 candidates, totalling 144 fits\n",
      "Best Parameters: {'colsample_bytree': 0.8, 'learning_rate': 0.02, 'max_depth': 6, 'n_estimators': 100, 'subsample': 0.8}\n",
      "Accuracy with Best Parameters: 0.5686015831134564\n"
     ]
    }
   ],
   "source": [
    "from xgboost import XGBClassifier\n",
    "\n",
    "data = df\n",
    "\n",
    "# our features\n",
    "X = data.drop(columns=['game_result', 'user_id', 'user_op'])\n",
    "\n",
    "#our label\n",
    "y = data['game_result']   # the last column\n",
    "y = y.map({-1: 0, 0: 1, 1: 2})\n",
    "\n",
    "# Split data into training and testing sets\n",
    "X_train, X_test, y_train, y_test = train_test_split(X, y, test_size=0.3, random_state=42)\n",
    "\n",
    "\n",
    "param_grid = {\n",
    "    'learning_rate': [0.02, 0.05, 0.1],       # Step size shrinkage\n",
    "    'max_depth': [4, 6],                # Maximum tree depth\n",
    "    'n_estimators': [100, 300],         # Number of trees\n",
    "    'subsample': [0.8, 1.0],            # Subsample ratio of the training instances\n",
    "    'colsample_bytree': [0.8, 1.0]      # Subsample ratio of columns when constructing each tree\n",
    "}\n",
    "model = XGBClassifier(random_state=42)\n",
    "\n",
    "grid_search = GridSearchCV(\n",
    "    estimator=model,\n",
    "    param_grid=param_grid,\n",
    "    scoring='accuracy',\n",
    "    cv=3,               # 5-fold cross-validation\n",
    "    verbose=1,          # Verbosity level\n",
    "    n_jobs=1           # Utilize all available CPU cores\n",
    ")\n",
    "\n",
    "grid_search.fit(X_train, y_train)\n",
    "\n",
    "# model.fit(X_train, y_train)\n",
    "# Set up hyperparameter grid for tuning\n",
    "# param_grid = {\n",
    "#     'n_estimators': [50, 100],  # Number of trees in the forest\n",
    "#     'max_depth': [10, 20]       # Maximum depth of the trees\n",
    "# }\n",
    "\n",
    "# # Perform grid search with cross-validation\n",
    "# grid_search = GridSearchCV(rf, param_grid, cv=5, scoring='accuracy')\n",
    "# grid_search.fit(X_train, y_train)\n",
    "\n",
    "# # Get the best model\n",
    "# best_knn = grid_search.best_estimator_\n",
    "\n",
    "# # Make predictions with the best model\n",
    "# y_pred = best_knn.predict(X_test)\n",
    "\n",
    "best_xgb = grid_search.best_estimator_\n",
    "y_pred = best_xgb.predict(X_test)\n",
    "accuracy = accuracy_score(y_test, y_pred)\n",
    "print(\"Best Parameters:\", grid_search.best_params_)\n",
    "print(\"Accuracy with Best Parameters:\", accuracy)"
   ]
  },
  {
   "cell_type": "code",
   "execution_count": 18,
   "metadata": {},
   "outputs": [
    {
     "name": "stderr",
     "output_type": "stream",
     "text": [
      "c:\\Users\\tiazh\\OneDrive\\CS\\CS506\\cs506_final_project\\.venv\\Lib\\site-packages\\keras\\src\\layers\\core\\input_layer.py:27: UserWarning: Argument `input_shape` is deprecated. Use `shape` instead.\n",
      "  warnings.warn(\n"
     ]
    },
    {
     "name": "stdout",
     "output_type": "stream",
     "text": [
      "Elapsed time: 4.85s\n",
      "Test Loss: 0.8155, Test Accuracy: 0.5246\n",
      "\u001b[1m20/20\u001b[0m \u001b[32m━━━━━━━━━━━━━━━━━━━━\u001b[0m\u001b[37m\u001b[0m \u001b[1m0s\u001b[0m 3ms/step \n",
      "[[264   0  63]\n",
      " [ 15   0   6]\n",
      " [216   0  67]]\n",
      "              precision    recall  f1-score   support\n",
      "\n",
      "           0       0.53      0.81      0.64       327\n",
      "           1       0.00      0.00      0.00        21\n",
      "           2       0.49      0.24      0.32       283\n",
      "\n",
      "    accuracy                           0.52       631\n",
      "   macro avg       0.34      0.35      0.32       631\n",
      "weighted avg       0.50      0.52      0.48       631\n",
      "\n"
     ]
    },
    {
     "name": "stderr",
     "output_type": "stream",
     "text": [
      "c:\\Users\\tiazh\\OneDrive\\CS\\CS506\\cs506_final_project\\.venv\\Lib\\site-packages\\sklearn\\metrics\\_classification.py:1531: UndefinedMetricWarning: Precision is ill-defined and being set to 0.0 in labels with no predicted samples. Use `zero_division` parameter to control this behavior.\n",
      "  _warn_prf(average, modifier, f\"{metric.capitalize()} is\", len(result))\n",
      "c:\\Users\\tiazh\\OneDrive\\CS\\CS506\\cs506_final_project\\.venv\\Lib\\site-packages\\sklearn\\metrics\\_classification.py:1531: UndefinedMetricWarning: Precision is ill-defined and being set to 0.0 in labels with no predicted samples. Use `zero_division` parameter to control this behavior.\n",
      "  _warn_prf(average, modifier, f\"{metric.capitalize()} is\", len(result))\n",
      "c:\\Users\\tiazh\\OneDrive\\CS\\CS506\\cs506_final_project\\.venv\\Lib\\site-packages\\sklearn\\metrics\\_classification.py:1531: UndefinedMetricWarning: Precision is ill-defined and being set to 0.0 in labels with no predicted samples. Use `zero_division` parameter to control this behavior.\n",
      "  _warn_prf(average, modifier, f\"{metric.capitalize()} is\", len(result))\n"
     ]
    }
   ],
   "source": [
    "import time\n",
    "import pandas as pd\n",
    "from sklearn.model_selection import train_test_split\n",
    "from sklearn.metrics import classification_report, confusion_matrix\n",
    "from category_encoders import TargetEncoder\n",
    "from sklearn.preprocessing import StandardScaler\n",
    "from tensorflow.keras.models import Sequential\n",
    "from tensorflow.keras.layers import Dense, Dropout, InputLayer\n",
    "from tensorflow.keras import callbacks\n",
    "from tensorflow.keras import optimizers, losses, metrics\n",
    "\n",
    "# Load data\n",
    "data = df\n",
    "\n",
    "# Map the labels from [-1, 0, 1] to [0, 1, 2]\n",
    "label_mapping = {-1: 0, 0: 1, 1: 2}\n",
    "data['game_result'] = data['game_result'].map(label_mapping)\n",
    "\n",
    "# Define features and labels\n",
    "X = data.drop(columns=['game_result', 'user_id', 'user_op'])\n",
    "y = data['game_result']  # No one-hot encoding required\n",
    "\n",
    "# Split data into training and testing sets\n",
    "X_train, X_test, y_train, y_test = train_test_split(X, y, test_size=0.25, random_state=42)\n",
    "\n",
    "# Identify categorical columns\n",
    "categorical_cols = X.select_dtypes(include=['object', 'category']).columns.tolist()\n",
    "\n",
    "# Apply Target Encoding\n",
    "target_encoder = TargetEncoder(cols=categorical_cols)\n",
    "X_train_encoded = target_encoder.fit_transform(X_train, y_train)\n",
    "X_test_encoded = target_encoder.transform(X_test)\n",
    "\n",
    "# Feature Scaling\n",
    "scaler = StandardScaler()\n",
    "X_train_scaled = scaler.fit_transform(X_train_encoded)\n",
    "X_test_scaled = scaler.transform(X_test_encoded)\n",
    "\n",
    "# Define the neural network model\n",
    "nn_model = Sequential()\n",
    "\n",
    "# Input layer\n",
    "nn_model.add(InputLayer(input_shape=(X_train_scaled.shape[1],), name='input'))\n",
    "\n",
    "# Hidden layers\n",
    "nn_model.add(Dense(units=128, activation='relu', name='hl_1'))\n",
    "nn_model.add(Dropout(0.2))\n",
    "\n",
    "nn_model.add(Dense(units=64, activation='relu', name='hl_2'))\n",
    "nn_model.add(Dropout(0.2))\n",
    "\n",
    "nn_model.add(Dense(units=32, activation='relu', name='hl_3'))\n",
    "nn_model.add(Dropout(0.2))\n",
    "\n",
    "# Output layer\n",
    "nn_model.add(Dense(units=3, activation='softmax', name='output'))  # 3 units for 3 classes\n",
    "\n",
    "# Compile the model with a lower learning rate\n",
    "nn_model.compile(\n",
    "    optimizer=optimizers.Adam(learning_rate=0.001),\n",
    "    loss=losses.SparseCategoricalCrossentropy(),\n",
    "    metrics=[metrics.SparseCategoricalAccuracy()]\n",
    ")\n",
    "\n",
    "# Custom callback for logging progress\n",
    "class ProgBarLoggerNEpochs(callbacks.Callback):\n",
    "    def __init__(self, num_epochs: int, every_n: int = 50):\n",
    "        self.num_epochs = num_epochs\n",
    "        self.every_n = every_n\n",
    "\n",
    "    def on_epoch_end(self, epoch, logs=None):\n",
    "        if (epoch + 1) % self.every_n == 0:\n",
    "            log_message = f\"Epoch [{epoch + 1}/{self.num_epochs}]\"\n",
    "            log_details = \", \".join([f\"{k.capitalize()}: {v:.4f}\" for k, v in logs.items()])\n",
    "            print(f\"{log_message}, {log_details}\")\n",
    "\n",
    "# Early stopping callback\n",
    "early_stop = callbacks.EarlyStopping(monitor='val_loss', patience=20, restore_best_weights=True)\n",
    "\n",
    "# Train the model\n",
    "t0 = time.time()  # Start time\n",
    "num_epochs = 500\n",
    "\n",
    "history = nn_model.fit(\n",
    "    X_train_scaled,\n",
    "    y_train,\n",
    "    epochs=num_epochs,\n",
    "    validation_split=0.2,\n",
    "    verbose=0,  # Disable default progress bar\n",
    "    callbacks=[ProgBarLoggerNEpochs(num_epochs, every_n=50), early_stop],\n",
    ")\n",
    "t1 = time.time()  # End time\n",
    "\n",
    "print(f\"Elapsed time: {t1 - t0:.2f}s\")\n",
    "\n",
    "# Evaluate the model on the test set\n",
    "loss, accuracy = nn_model.evaluate(X_test_scaled, y_test, verbose=0)\n",
    "print(f\"Test Loss: {loss:.4f}, Test Accuracy: {accuracy:.4f}\")\n",
    "\n",
    "# Predictions\n",
    "probability_predictions = nn_model.predict(X_test_scaled)\n",
    "predicted_classes = probability_predictions.argmax(axis=1)\n",
    "\n",
    "# Evaluate performance using classification metrics\n",
    "print(confusion_matrix(y_test, predicted_classes))\n",
    "print(classification_report(y_test, predicted_classes))"
   ]
  },
  {
   "cell_type": "markdown",
   "metadata": {},
   "source": [
    "df['user_performace'] = df['user_win_rate'] * (df['op_lose_rate'])\n",
    "df['op_performance'] = df['op_win_rate'] * (df['user_lose_rate'])\n",
    "remove this for:\n",
    "Best Parameters: {'colsample_bytree': 1.0, 'learning_rate': 0.05, 'max_depth': 4, 'n_estimators': 100, 'subsample': 1.0}\n",
    "Accuracy with Best Parameters: 0.5699208443271768\n",
    "Best Parameters: {'max_depth': 10, 'n_estimators': 50}\n",
    "Accuracy with Best Parameters: 0.5641838351822503"
   ]
  }
 ],
 "metadata": {
  "kernelspec": {
   "display_name": ".venv",
   "language": "python",
   "name": "python3"
  },
  "language_info": {
   "codemirror_mode": {
    "name": "ipython",
    "version": 3
   },
   "file_extension": ".py",
   "mimetype": "text/x-python",
   "name": "python",
   "nbconvert_exporter": "python",
   "pygments_lexer": "ipython3",
   "version": "3.11.5"
  }
 },
 "nbformat": 4,
 "nbformat_minor": 2
}
